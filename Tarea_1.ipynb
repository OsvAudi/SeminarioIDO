{
  "nbformat": 4,
  "nbformat_minor": 0,
  "metadata": {
    "colab": {
      "provenance": []
    },
    "kernelspec": {
      "name": "python3",
      "display_name": "Python 3"
    },
    "language_info": {
      "name": "python"
    }
  },
  "cells": [
    {
      "cell_type": "markdown",
      "source": [
        "<font face=\"Montserrat ExtraBold\">\n",
        "  <h1> Tarea 1</h1>\n",
        "</font>\n",
        "<font face=\"Montserrat\">\n",
        "  <h5>Integrantes:</h5>\n",
        "  <h5><ul>\n",
        "  <li>Alvarado Hernández Maricruz</li>\n",
        "  <li>Cid Aguillon Lilian Anahy</li>\n",
        "  <li>Conde Audiffred Osvaldo</li>\n",
        "  <li>Enciso Aguilar Estela Michel</li>\n",
        "  <li>Villavicencio Gallegos Arturo</li>\n",
        "</ul>\n",
        "</font>\n"
      ],
      "metadata": {
        "id": "UfNAdEAkjadO"
      }
    },
    {
      "cell_type": "code",
      "source": [
        "#Problema 1: Save the prisoner\n",
        "\n",
        "def saveThePrisoner(n, m, s):\n",
        "    # Se calculara la posición final del prisionero que se le dara  el último dulce\n",
        "    prisoner = ((s - 1) + (m - 1)) % n + 1\n",
        "\n",
        "    return prisoner\n",
        "\n",
        "# n : Número de Prisioneros\n",
        "# m : Número de Dulces\n",
        "# s : Posición inicial\n",
        "\n",
        "# Ejemplo\n",
        "resultado = SaveThePrisoner(6,7,5)\n",
        "print(resultado)"
      ],
      "metadata": {
        "id": "i88Ff6iDd7T_"
      },
      "execution_count": null,
      "outputs": []
    },
    {
      "cell_type": "code",
      "source": [
        "#Problema 2: The love letter mystery\n",
        "\n",
        "def theLoveLetterMystery(s):\n",
        "    # Write your code here\n",
        "    count = 0\n",
        "\n",
        "    for i in range(len(s) // 2):\n",
        "        left_char = s[i]\n",
        "        right_char = s[len(s) - 1 - i]\n",
        "\n",
        "        count += abs(ord(left_char) - ord(right_char))\n",
        "\n",
        "    return count\n",
        "\n",
        "if _name_ == '_main_':\n",
        "    fptr = open(os.environ['OUTPUT_PATH'], 'w')\n",
        "\n",
        "    q = int(input().strip())\n",
        "\n",
        "    for q_itr in range(q):\n",
        "        s = input()\n",
        "\n",
        "        result = theLoveLetterMystery(s)\n",
        "\n",
        "        fptr.write(str(result) + '\\n')\n",
        "\n",
        "fptr.close()"
      ],
      "metadata": {
        "id": "mChJ08WGYSkt"
      },
      "execution_count": null,
      "outputs": []
    },
    {
      "cell_type": "code",
      "execution_count": null,
      "metadata": {
        "id": "nWmkAWOA-nnV"
      },
      "outputs": [],
      "source": [
        "# Problema 3: Closest Numbers\n",
        "\n",
        "def closestNumbers(arr):\n",
        "    n = len(arr)\n",
        "    arr.sort()\n",
        "\n",
        "    maxDif = float('inf')\n",
        "    resultado = []\n",
        "\n",
        "    for i in range(1, n):\n",
        "        dif = arr[i] - arr[i - 1]\n",
        "        if dif < maxDif:\n",
        "            maxDif = dif\n",
        "            resultado = [arr[i - 1], arr[i]]\n",
        "        elif dif == maxDif:\n",
        "            resultado.extend([arr[i - 1], arr[i]])\n",
        "\n",
        "    return sorted(resultado)"
      ]
    },
    {
      "cell_type": "code",
      "source": [
        "#Problema 4: Missing Numbers\n",
        "\n",
        "from collections import Counter\n",
        "\n",
        "K1 = input()\n",
        "C1 = Counter(map(int, input().split()))\n",
        "K2 = input()\n",
        "C2 = Counter(map(int, input().split()))\n",
        "\n",
        "if K1 > K2:\n",
        "    C2, C1 = C1, C2\n",
        "\n",
        "l = []\n",
        "for K in C2.keys():\n",
        "    if K not in C1 or C1[K] < C2[K]:\n",
        "        l.append(K)\n",
        "\n",
        "print(' '.join(map(str, sorted(l))))"
      ],
      "metadata": {
        "id": "0GzCQ5LtguHc"
      },
      "execution_count": null,
      "outputs": []
    },
    {
      "cell_type": "code",
      "source": [
        "#Problema 5: Sherlock and The Beast\n",
        "\n",
        "def decentNumber(n):\n",
        "    #Casos donde no podemos dar un numero de estos tamanos y que cumplan las condiciones\n",
        "    if n == 1 or n == 2 or n == 4 or n == 7:\n",
        "        print(\"-1\")\n",
        "    else:\n",
        "        #Imprimimos un numero de puros 5 para que sea lo mas grande posible\n",
        "        if n % 3 == 0:\n",
        "            result = \"5\" * n\n",
        "        elif n % 3 == 1 and n >= 10:\n",
        "\n",
        "            result = \"5\" * (n - 10) + \"3\" * 10\n",
        "        elif n % 3 == 2 and n >= 5:\n",
        "            result = \"5\" * (n - 5) + \"3\" * 5\n",
        "        else:\n",
        "            result = \"-1\"\n",
        "\n",
        "        print(result)\n",
        "\n",
        "if __name__ == '__main__':\n",
        "    t = int(input().strip())\n",
        "    for _ in range(t):\n",
        "        n = int(input().strip())\n",
        "        decentNumber(n)"
      ],
      "metadata": {
        "id": "BLVAQ4TQXMeC"
      },
      "execution_count": null,
      "outputs": []
    },
    {
      "cell_type": "code",
      "source": [
        "# Problema 6: Fibonacci modified\n",
        "\n",
        "def fibonacciModified(t1, t2, n):\n",
        "    # Lista para guardar la secuencia de Fibonacci\n",
        "    fib_sequence = [t1, t2]\n",
        "\n",
        "    # Para calcular la secuencia de Fibonacci hasta el termino n\n",
        "    for i in range(2, n):\n",
        "        siguiente_termino = fib_sequence[-2] + (fib_sequence[-1] ** 2)\n",
        "        fib_sequence.append(siguiente_termino)\n",
        "\n",
        "    # Volvemos a tomar  el termino n-esimo\n",
        "    return fib_sequence[n - 1]\n",
        "\n",
        "if __name__ == '__main__':\n",
        "    fptr = open(os.environ['OUTPUT_PATH'], 'w')\n",
        "\n",
        "    first_multiple_input = input().rstrip().split()\n",
        "\n",
        "    t1 = int(first_multiple_input[0])\n",
        "\n",
        "    t2 = int(first_multiple_input[1])\n",
        "\n",
        "    n = int(first_multiple_input[2])\n",
        "\n",
        "    result = fibonacciModified(t1, t2, n)\n",
        "\n",
        "    fptr.write(str(result) + '\\n')\n",
        "\n",
        "    fptr.close()"
      ],
      "metadata": {
        "id": "DPr2CGohdo6v"
      },
      "execution_count": null,
      "outputs": []
    },
    {
      "cell_type": "code",
      "source": [
        "#Problema 7: New year chaos\n",
        "\n",
        "def minimumBribes(q):\n",
        "    n = len(q)\n",
        "    sobornos = [0] * n  #Crear una lista de los sobornos por persona\n",
        "    caos = False\n",
        "\n",
        "    for i in range(n):\n",
        "        if q[i] - (i + 1) > 2: #Vemos si ya hay demasiados sobornos\n",
        "            caos = True\n",
        "            break\n",
        "        for j in range(max(0, q[i] - 2), i): #Contador de lo sobornos\n",
        "            if q[j] > q[i]:\n",
        "                sobornos[q[j] - 1] += 1\n",
        "\n",
        "    if caos:\n",
        "        print(\"Too chaotic\")\n",
        "    else:\n",
        "        print(sum(sobornos))\n",
        "\n",
        "if __name__ == '__main__':\n",
        "    t = int(input().strip())\n",
        "\n",
        "    for _ in range(t):\n",
        "        n = int(input().strip())\n",
        "        q = list(map(int, input().rstrip().split()))\n",
        "        minimumBribes(q)"
      ],
      "metadata": {
        "id": "ACQCmOM7V2pa"
      },
      "execution_count": null,
      "outputs": []
    },
    {
      "cell_type": "code",
      "source": [
        "# Problema 8: Recursive Digit Sum\n",
        "\n",
        "def sup_digits(x,y):\n",
        "    a = digsum(x)\n",
        "    return sup_digit(str(int(a)*y))\n",
        "\n",
        "def sup_digit(x):\n",
        "    if len(x) <= 1:\n",
        "        return x\n",
        "    else:\n",
        "        return sup_digit( digsum(x) )\n",
        "\n",
        "def digsum(x):\n",
        "    return str(sum((int(i) for i in list(x))))\n",
        "\n",
        "n, y = input().split()\n",
        "print( sup_digits(n, int(y)))"
      ],
      "metadata": {
        "id": "L1VR7i48g7Uf"
      },
      "execution_count": null,
      "outputs": []
    },
    {
      "cell_type": "code",
      "source": [
        "#Problema 9: Game of Stones\n",
        "\n",
        "import os\n",
        "\n",
        "def gameOfStones(n):\n",
        "    if n % 7 == 0 or n % 7 == 1:\n",
        "        return \"Second\"\n",
        "    else:\n",
        "        return \"First\"\n",
        "\n",
        "if __name__ == '__main__':\n",
        "    fptr = open(os.environ['OUTPUT_PATH'], 'w')\n",
        "\n",
        "    t = int(input().strip())\n",
        "\n",
        "    for t_itr in range(t):\n",
        "        n = int(input().strip())\n",
        "\n",
        "        result = gameOfStones(n)\n",
        "\n",
        "        fptr.write(result + '\\n')\n",
        "\n",
        "    fptr.close()"
      ],
      "metadata": {
        "id": "uRkg8db_Xtvn"
      },
      "execution_count": null,
      "outputs": []
    },
    {
      "cell_type": "code",
      "source": [
        "#Problema 10: Tower breakers\n",
        "\n",
        "def towerBreakers(n, m):\n",
        "    # Write your code here\n",
        "\n",
        "    if m == 1:\n",
        "        return 2\n",
        "    else:\n",
        "        if n % 2 == 0:\n",
        "            return 2\n",
        "        else:\n",
        "            return 1\n",
        "\n",
        "if _name_ == '_main_':\n",
        "    fptr = open(os.environ['OUTPUT_PATH'], 'w')\n",
        "\n",
        "    t = int(input().strip())\n",
        "\n",
        "    for t_itr in range(t):\n",
        "        first_multiple_input = input().rstrip().split()\n",
        "\n",
        "        n = int(first_multiple_input[0])\n",
        "\n",
        "        m = int(first_multiple_input[1])\n",
        "\n",
        "        result = towerBreakers(n, m)\n",
        "\n",
        "        fptr.write(str(result) + '\\n')\n",
        "\n",
        "fptr.close()"
      ],
      "metadata": {
        "id": "NOaylmtEdKcY"
      },
      "execution_count": null,
      "outputs": []
    }
  ]
}